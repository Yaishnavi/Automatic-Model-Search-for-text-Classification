{
 "cells": [
  {
   "cell_type": "code",
   "execution_count": 1,
   "metadata": {},
   "outputs": [],
   "source": [
    "from os.path import join\n",
    "import numpy as np\n",
    "import matplotlib.pyplot as plt\n",
    "%matplotlib inline"
   ]
  },
  {
   "cell_type": "code",
   "execution_count": 2,
   "metadata": {},
   "outputs": [],
   "source": [
    "inges_dir = 'AutoDL_ingestion_program/'           # Ingestion program directory\n",
    "score_dir = 'AutoDL_scoring_program/'             # Scoring program directory\n",
    "model_dir = 'AutoDL_sample_code_submission/'      # Where model code is, called model.py\n",
    "baseline_dir = 'Models/'   # some baseline methods are implemented here\n",
    "model_simple = join(baseline_dir, 'modelcnn.py') # choose one simple baseline model\n",
    "\n",
    "output_dir = 'AutoDL_scoring_output'\n",
    "detailed_results_page = join(output_dir, 'detailed_results.html')\n",
    "\n",
    "from sys import path; \n",
    "path.append(model_dir); path.append(inges_dir); path.append(score_dir); path.append(baseline_dir);"
   ]
  },
  {
   "cell_type": "markdown",
   "metadata": {},
   "source": [
    "# Part 1: Dataset Overview"
   ]
  },
  {
   "cell_type": "code",
   "execution_count": 3,
   "metadata": {},
   "outputs": [
    {
     "output_type": "stream",
     "name": "stdout",
     "text": "\u001b[34mO1\u001b[m\u001b[m \u001b[34mO2\u001b[m\u001b[m \u001b[34mO3\u001b[m\u001b[m \u001b[34mO4\u001b[m\u001b[m \u001b[34mO5\u001b[m\u001b[m\n"
    }
   ],
   "source": [
    "data_dir = 'practice_dataset/offline_data'            # Change this directory and the dataset as needed\n",
    "data_name = 'O3'\n",
    "!ls $data_dir"
   ]
  },
  {
   "cell_type": "code",
   "execution_count": 4,
   "metadata": {},
   "outputs": [],
   "source": [
    "# read train / test datasets\n",
    "from dataset import AutoNLPDataset # The module 'dataset' is defined at AutoDL_ingestion_program/dataset.py\n",
    "D = AutoNLPDataset(join(data_dir, data_name + '/' + data_name + '.data'))\n",
    "D.read_dataset()\n",
    "D_train = D.get_train()\n",
    "D_test = D.get_test()"
   ]
  },
  {
   "cell_type": "markdown",
   "metadata": {},
   "source": [
    "# Part 2: Model, Prediction and Metrics"
   ]
  },
  {
   "cell_type": "code",
   "execution_count": 5,
   "metadata": {},
   "outputs": [],
   "source": [
    "# copy simple model\n",
    "model_submit = join(model_dir, 'model.py') # submitted models must be called model.py\n",
    "!cp $model_simple $model_submit"
   ]
  },
  {
   "cell_type": "code",
   "execution_count": 6,
   "metadata": {},
   "outputs": [
    {
     "output_type": "stream",
     "name": "stderr",
     "text": "Using TensorFlow backend.\n"
    }
   ],
   "source": [
    "# set time budget and instanciate the model with dataset\n",
    "from model import Model\n",
    "time_budget=2400\n",
    "M = Model(D.metadata_)"
   ]
  },
  {
   "cell_type": "code",
   "execution_count": 7,
   "metadata": {},
   "outputs": [
    {
     "output_type": "stream",
     "name": "stdout",
     "text": "Found 2000000 fastText word vectors.\nfastText oov words: 19999\nWARNING:tensorflow:From /Users/vaish/anaconda3/envs/ml/lib/python3.7/site-packages/tensorflow/python/ops/resource_variable_ops.py:435: colocate_with (from tensorflow.python.framework.ops) is deprecated and will be removed in a future version.\nInstructions for updating:\nColocations handled automatically by placer.\nWARNING:tensorflow:From /Users/vaish/anaconda3/envs/ml/lib/python3.7/site-packages/tensorflow/python/keras/layers/core.py:143: calling dropout (from tensorflow.python.ops.nn_ops) with keep_prob is deprecated and will be removed in a future version.\nInstructions for updating:\nPlease use `rate` instead of `keep_prob`. Rate should be set to `rate = 1 - keep_prob`.\nTrain on 9051 samples, validate on 2263 samples\nWARNING:tensorflow:From /Users/vaish/anaconda3/envs/ml/lib/python3.7/site-packages/tensorflow/python/ops/math_ops.py:3066: to_int32 (from tensorflow.python.ops.math_ops) is deprecated and will be removed in a future version.\nInstructions for updating:\nUse tf.cast instead.\nEpoch 1/1000\n - 90s - loss: 2.9933 - acc: 0.0550 - val_loss: 2.9925 - val_acc: 0.0490\nEpoch 2/1000\n - 96s - loss: 2.9919 - acc: 0.0529 - val_loss: 2.9930 - val_acc: 0.0513\nEpoch 3/1000\n - 99s - loss: 2.9909 - acc: 0.0508 - val_loss: 2.9931 - val_acc: 0.0446\nEpoch 4/1000\n - 99s - loss: 2.9913 - acc: 0.0525 - val_loss: 2.9929 - val_acc: 0.0446\nEpoch 5/1000\n - 98s - loss: 2.9913 - acc: 0.0551 - val_loss: 2.9928 - val_acc: 0.0495\nEpoch 6/1000\n - 102s - loss: 2.9912 - acc: 0.0526 - val_loss: 2.9928 - val_acc: 0.0446\nEpoch 7/1000\n - 100s - loss: 2.9908 - acc: 0.0549 - val_loss: 2.9929 - val_acc: 0.0446\nEpoch 8/1000\n - 102s - loss: 2.9908 - acc: 0.0494 - val_loss: 2.9930 - val_acc: 0.0446\nEpoch 9/1000\n - 110s - loss: 2.9908 - acc: 0.0505 - val_loss: 2.9929 - val_acc: 0.0446\nEpoch 10/1000\n - 104s - loss: 2.9908 - acc: 0.0516 - val_loss: 2.9930 - val_acc: 0.0446\nEpoch 11/1000\n - 103s - loss: 2.9911 - acc: 0.0533 - val_loss: 2.9929 - val_acc: 0.0446\n<class 'numpy.ndarray'> (11314, 20)\n"
    }
   ],
   "source": [
    "# train the model for a certain time\n",
    "M.train(D_train, remaining_time_budget=time_budget)"
   ]
  },
  {
   "cell_type": "code",
   "execution_count": 8,
   "metadata": {},
   "outputs": [],
   "source": [
    "# get prediction by calling test method\n",
    "prediction = M.test(D_test, remaining_time_budget=time_budget)"
   ]
  },
  {
   "cell_type": "code",
   "execution_count": 9,
   "metadata": {},
   "outputs": [
    {
     "output_type": "stream",
     "name": "stdout",
     "text": "Classification Accuracy:  0.05270844397238443\nNormalized Area Under ROC Curve (NAUC) = 0.0000\nALC can be read from the result page as shown in the next part.\n"
    }
   ],
   "source": [
    "# calculate scores\n",
    "from score import autodl_auc, accuracy\n",
    "from libscores import read_array\n",
    "solution_file = join(data_dir, data_name + '/' + data_name + '.solution')\n",
    "solution = read_array(solution_file)\n",
    "\n",
    "acc = accuracy(solution, prediction) # note that accuracy is not evaluation metric in the challenge\n",
    "current_bac = autodl_auc(solution, prediction)\n",
    "# print('Number of test examples: %d \\n\\t\\t Solution \\t\\t\\t\\t\\t Prediction ' % len(solution))\n",
    "# [print(z) for z in zip(solution, prediction)]\n",
    "print (\"Classification Accuracy: \", acc)\n",
    "print (\"Normalized Area Under ROC Curve (NAUC) = {:.4f}\".format(current_bac))\n",
    "print (\"ALC can be read from the result page as shown in the next part.\")"
   ]
  },
  {
   "cell_type": "markdown",
   "metadata": {},
   "source": [
    "# Part 3: Test and Submission"
   ]
  },
  {
   "cell_type": "code",
   "execution_count": 10,
   "metadata": {},
   "outputs": [
    {
     "output_type": "stream",
     "name": "stdout",
     "text": "2020-03-19 19:42:50 INFO run_local_test.py: ##################################################\n2020-03-19 19:42:50 INFO run_local_test.py: Begin running local test using\n2020-03-19 19:42:50 INFO run_local_test.py: code_dir = AutoDL_sample_code_submission\n2020-03-19 19:42:50 INFO run_local_test.py: dataset_dir = O2\n2020-03-19 19:42:50 INFO run_local_test.py: ##################################################\n/Users/vaish/anaconda3/envs/ml/bin/python: can't find '__main__' module in '/Users/vaish/Desktop/AutoNLP/AutoNLP'\n/Users/vaish/anaconda3/envs/ml/bin/python: can't find '__main__' module in '/Users/vaish/Desktop/AutoNLP/AutoNLP'\n"
    }
   ],
   "source": [
    "# run local test\n",
    "!python run_local_test.py -code_dir=./AutoDL_sample_code_submission -dataset_dir=practice_dataset/offline_data/O2"
   ]
  },
  {
   "cell_type": "code",
   "execution_count": 11,
   "metadata": {},
   "outputs": [
    {
     "output_type": "display_data",
     "data": {
      "text/plain": "<IPython.core.display.HTML object>",
      "text/html": "AutoDL_scoring_output/detailed_results.html"
     },
     "metadata": {}
    }
   ],
   "source": [
    "# result report\n",
    "from IPython.core.display import display, HTML\n",
    "\n",
    "display(HTML(detailed_results_page))"
   ]
  },
  {
   "cell_type": "code",
   "execution_count": null,
   "metadata": {},
   "outputs": [],
   "source": []
  }
 ],
 "metadata": {
  "kernelspec": {
   "display_name": "Python 3.7.5 64-bit ('ml': conda)",
   "language": "python",
   "name": "python37564bitmlconda43f998e45520495fab255947973624a7"
  },
  "language_info": {
   "codemirror_mode": {
    "name": "ipython",
    "version": 3
   },
   "file_extension": ".py",
   "mimetype": "text/x-python",
   "name": "python",
   "nbconvert_exporter": "python",
   "pygments_lexer": "ipython3",
   "version": "3.7.5-final"
  }
 },
 "nbformat": 4,
 "nbformat_minor": 2
}